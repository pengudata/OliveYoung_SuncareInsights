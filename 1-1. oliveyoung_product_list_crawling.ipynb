{
 "cells": [
  {
   "cell_type": "markdown",
   "id": "e6d1b184-3463-4e82-ae71-7bb0dd5b9c0a",
   "metadata": {},
   "source": [
    "# 1-1. 올리브영 선케어 제품 URL 리스트업 크롤링"
   ]
  },
  {
   "cell_type": "code",
   "execution_count": 1,
   "id": "e01238f6-c2a1-43e9-95b2-cd3a63877964",
   "metadata": {},
   "outputs": [],
   "source": [
    "from selenium import webdriver\n",
    "from selenium.webdriver.common.by import By"
   ]
  },
  {
   "cell_type": "code",
   "execution_count": 10,
   "id": "720fb830-6e7c-428d-8683-87891f50296a",
   "metadata": {},
   "outputs": [],
   "source": [
    "import time\n",
    "import random\n",
    "import csv\n",
    "import re\n",
    "import pandas as pd"
   ]
  },
  {
   "cell_type": "code",
   "execution_count": 6,
   "id": "7b5b9fc5-e170-4ca2-ae2c-ad8a51485034",
   "metadata": {},
   "outputs": [],
   "source": [
    "# 선스프레이 URL\n",
    "url = \"https://www.oliveyoung.co.kr/store/display/getMCategoryList.do?dispCatNo=1000001001100050002&fltDispCatNo=&prdSort=01&pageIdx={}&rowsPerPage=24&searchTypeSort=btn_thumb&plusButtonFlag=N&isLoginCnt=0&aShowCnt=0&bShowCnt=0&cShowCnt=0&trackingCd=Cat1000001001100050002_Small&amplitudePageGubun=SMALL_CATE&t_page=%EC%B9%B4%ED%85%8C%EA%B3%A0%EB%A6%AC%EA%B4%80&t_click=%EC%B9%B4%ED%85%8C%EA%B3%A0%EB%A6%AC%EC%83%81%EC%84%B8_%EC%86%8C%EC%B9%B4%ED%85%8C%EA%B3%A0%EB%A6%AC&midCategory=%EC%84%A0%ED%8C%A8%EC%B9%98&smallCategory=%EC%86%8C_%EC%84%A0%EC%8A%A4%ED%94%84%EB%A0%88%EC%9D%B4&checkBrnds=&lastChkBrnd=&t_3rd_category_type=%EC%86%8C_%EC%84%A0%EC%8A%A4%ED%94%84%EB%A0%88%EC%9D%B4\""
   ]
  },
  {
   "cell_type": "code",
   "execution_count": 7,
   "id": "8f82a854-be4d-49a2-a7a6-1595729b6157",
   "metadata": {},
   "outputs": [],
   "source": [
    "# 선패치 URL\n",
    "url = \"https://www.oliveyoung.co.kr/store/display/getMCategoryList.do?dispCatNo=1000001001100050001&fltDispCatNo=&prdSort=01&pageIdx={}&rowsPerPage=24&searchTypeSort=btn_thumb&plusButtonFlag=N&isLoginCnt=0&aShowCnt=0&bShowCnt=0&cShowCnt=0&trackingCd=Cat1000001001100050001_Small&amplitudePageGubun=SMALL_CATE&t_page=%EC%B9%B4%ED%85%8C%EA%B3%A0%EB%A6%AC%EA%B4%80&t_click=%EC%B9%B4%ED%85%8C%EA%B3%A0%EB%A6%AC%EC%83%81%EC%84%B8_%EC%86%8C%EC%B9%B4%ED%85%8C%EA%B3%A0%EB%A6%AC&midCategory=%EC%84%A0%EC%8A%A4%ED%94%84%EB%A0%88%EC%9D%B4%2F%EC%84%A0%ED%8C%A8%EC%B9%98&smallCategory=%EC%86%8C_%EC%84%A0%ED%8C%A8%EC%B9%98&checkBrnds=&lastChkBrnd=&t_3rd_category_type=%EC%86%8C_%EC%84%A0%ED%8C%A8%EC%B9%98\""
   ]
  },
  {
   "cell_type": "code",
   "execution_count": 4,
   "id": "173206a8-832b-4ffb-bf55-32d78fe5e29f",
   "metadata": {},
   "outputs": [],
   "source": [
    "# 페이지 클릭 수"
   ]
  },
  {
   "cell_type": "code",
   "execution_count": 8,
   "id": "1603de5b-26d5-4c85-94ec-c4157c505910",
   "metadata": {},
   "outputs": [
    {
     "name": "stdout",
     "output_type": "stream",
     "text": [
      "brand: 식물나라, Link: <selenium.webdriver.remote.webelement.WebElement (session=\"69e22ef8180128c4e68afbe6b9b133fd\", element=\"f.784FF850690E4BD1FE5E39958CE66D73.d.716D47C7FB9CE2AD907907568CDCC8BA.e.1076\")>\n",
      "brand: 프란츠, Link: <selenium.webdriver.remote.webelement.WebElement (session=\"69e22ef8180128c4e68afbe6b9b133fd\", element=\"f.784FF850690E4BD1FE5E39958CE66D73.d.716D47C7FB9CE2AD907907568CDCC8BA.e.1119\")>\n",
      "brand: AHC, Link: <selenium.webdriver.remote.webelement.WebElement (session=\"69e22ef8180128c4e68afbe6b9b133fd\", element=\"f.784FF850690E4BD1FE5E39958CE66D73.d.716D47C7FB9CE2AD907907568CDCC8BA.e.1156\")>\n",
      "brand: 다슈, Link: <selenium.webdriver.remote.webelement.WebElement (session=\"69e22ef8180128c4e68afbe6b9b133fd\", element=\"f.784FF850690E4BD1FE5E39958CE66D73.d.716D47C7FB9CE2AD907907568CDCC8BA.e.1197\")>\n",
      "brand: 메디힐, Link: <selenium.webdriver.remote.webelement.WebElement (session=\"69e22ef8180128c4e68afbe6b9b133fd\", element=\"f.784FF850690E4BD1FE5E39958CE66D73.d.716D47C7FB9CE2AD907907568CDCC8BA.e.1229\")>\n",
      "brand: 오제끄, Link: <selenium.webdriver.remote.webelement.WebElement (session=\"69e22ef8180128c4e68afbe6b9b133fd\", element=\"f.784FF850690E4BD1FE5E39958CE66D73.d.716D47C7FB9CE2AD907907568CDCC8BA.e.1266\")>\n",
      "brand: 도미나스, Link: <selenium.webdriver.remote.webelement.WebElement (session=\"69e22ef8180128c4e68afbe6b9b133fd\", element=\"f.784FF850690E4BD1FE5E39958CE66D73.d.716D47C7FB9CE2AD907907568CDCC8BA.e.1303\")>\n",
      "brand: 오제끄, Link: <selenium.webdriver.remote.webelement.WebElement (session=\"69e22ef8180128c4e68afbe6b9b133fd\", element=\"f.784FF850690E4BD1FE5E39958CE66D73.d.716D47C7FB9CE2AD907907568CDCC8BA.e.1336\")>\n",
      "brand: 에이바자르, Link: <selenium.webdriver.remote.webelement.WebElement (session=\"69e22ef8180128c4e68afbe6b9b133fd\", element=\"f.784FF850690E4BD1FE5E39958CE66D73.d.716D47C7FB9CE2AD907907568CDCC8BA.e.1368\")>\n",
      "brand: 메디앤서, Link: <selenium.webdriver.remote.webelement.WebElement (session=\"69e22ef8180128c4e68afbe6b9b133fd\", element=\"f.784FF850690E4BD1FE5E39958CE66D73.d.716D47C7FB9CE2AD907907568CDCC8BA.e.1401\")>\n",
      "brand: 다슈, Link: <selenium.webdriver.remote.webelement.WebElement (session=\"69e22ef8180128c4e68afbe6b9b133fd\", element=\"f.784FF850690E4BD1FE5E39958CE66D73.d.716D47C7FB9CE2AD907907568CDCC8BA.e.1440\")>\n",
      "brand: 싸이닉, Link: <selenium.webdriver.remote.webelement.WebElement (session=\"69e22ef8180128c4e68afbe6b9b133fd\", element=\"f.784FF850690E4BD1FE5E39958CE66D73.d.716D47C7FB9CE2AD907907568CDCC8BA.e.1473\")>\n",
      "brand: 오제끄, Link: <selenium.webdriver.remote.webelement.WebElement (session=\"69e22ef8180128c4e68afbe6b9b133fd\", element=\"f.784FF850690E4BD1FE5E39958CE66D73.d.716D47C7FB9CE2AD907907568CDCC8BA.e.1515\")>\n"
     ]
    }
   ],
   "source": [
    "driver = webdriver.Chrome()\n",
    "with open('./sunpatch_link_test.csv', \"w\", newline=\"\", encoding = \"utf-8\") as fw:\n",
    "    writer = csv.DictWriter(fw, fieldnames=['page', 'brand_name', 'product_name', 'product_link', 'image_url'])\n",
    "    writer.writeheader()\n",
    "    for i in range(1, 3):\n",
    "        new_url = url.format(i)\n",
    "        driver.get(new_url)\n",
    "        timesleep = random.randint(1, 5)  # 1에서 5초 사이 랜덤 슬립\n",
    "        time.sleep(timesleep)\n",
    "        goods = driver.find_elements(By.CLASS_NAME, 'prd_info ')\n",
    "        for good in goods:\n",
    "            try:\n",
    "                # h2 요소 아래의 a 태그 찾기\n",
    "                product_link = good.find_element(By.TAG_NAME, 'a')\n",
    "                brand_name = good.find_element(By.CLASS_NAME, 'tx_brand').text\n",
    "                product_name = good.find_element(By.CLASS_NAME, 'tx_name').text\n",
    "                img = good.find_element(By.TAG_NAME, 'img')\n",
    "                imgsrc = img.get_attribute('src')\n",
    "                writer.writerow({\n",
    "                    'page': i,\n",
    "                    'brand_name': brand_name,\n",
    "                    'product_name': product_name,\n",
    "                    'product_link': product_link.get_attribute('href'),\n",
    "                    'image_url': imgsrc\n",
    "                })\n",
    "                print(f\"brand: {brand_name}, Link: {product_link}\")\n",
    "            except:\n",
    "                # a 태그가 없는 경우 예외 처리\n",
    "                print(\"a 태그를 찾을 수 없음\")\n",
    "                continue   \n",
    "driver.quit()"
   ]
  },
  {
   "cell_type": "code",
   "execution_count": null,
   "id": "d1a9510c-261c-43e3-97a4-92a31b7a1f47",
   "metadata": {},
   "outputs": [],
   "source": []
  },
  {
   "cell_type": "code",
   "execution_count": 13,
   "id": "e283010a-600d-4e48-99c5-7dff76aea876",
   "metadata": {},
   "outputs": [
    {
     "data": {
      "text/html": [
       "<div>\n",
       "<style scoped>\n",
       "    .dataframe tbody tr th:only-of-type {\n",
       "        vertical-align: middle;\n",
       "    }\n",
       "\n",
       "    .dataframe tbody tr th {\n",
       "        vertical-align: top;\n",
       "    }\n",
       "\n",
       "    .dataframe thead th {\n",
       "        text-align: right;\n",
       "    }\n",
       "</style>\n",
       "<table border=\"1\" class=\"dataframe\">\n",
       "  <thead>\n",
       "    <tr style=\"text-align: right;\">\n",
       "      <th></th>\n",
       "      <th>page</th>\n",
       "      <th>brand_name</th>\n",
       "      <th>product_name</th>\n",
       "      <th>product_link</th>\n",
       "      <th>image_url</th>\n",
       "    </tr>\n",
       "  </thead>\n",
       "  <tbody>\n",
       "    <tr>\n",
       "      <th>0</th>\n",
       "      <td>1</td>\n",
       "      <td>식물나라</td>\n",
       "      <td>식물나라 워터프루프 선 스프레이 1+1 기획</td>\n",
       "      <td>https://www.oliveyoung.co.kr/store/goods/getGo...</td>\n",
       "      <td>https://image.oliveyoung.co.kr/uploads/images/...</td>\n",
       "    </tr>\n",
       "    <tr>\n",
       "      <th>1</th>\n",
       "      <td>1</td>\n",
       "      <td>AHC</td>\n",
       "      <td>AHC 마스터즈 수딩 아웃도어 선스프레이 55ml</td>\n",
       "      <td>https://www.oliveyoung.co.kr/store/goods/getGo...</td>\n",
       "      <td>https://image.oliveyoung.co.kr/uploads/images/...</td>\n",
       "    </tr>\n",
       "    <tr>\n",
       "      <th>2</th>\n",
       "      <td>1</td>\n",
       "      <td>낫포유</td>\n",
       "      <td>[3초 자외선차단]낫포유 비건 선 바디 미스트 85ml</td>\n",
       "      <td>https://www.oliveyoung.co.kr/store/goods/getGo...</td>\n",
       "      <td>https://image.oliveyoung.co.kr/uploads/images/...</td>\n",
       "    </tr>\n",
       "    <tr>\n",
       "      <th>3</th>\n",
       "      <td>1</td>\n",
       "      <td>닥터아토</td>\n",
       "      <td>닥터아토 쿨링선스프레이150ml</td>\n",
       "      <td>https://www.oliveyoung.co.kr/store/goods/getGo...</td>\n",
       "      <td>https://image.oliveyoung.co.kr/uploads/images/...</td>\n",
       "    </tr>\n",
       "    <tr>\n",
       "      <th>4</th>\n",
       "      <td>1</td>\n",
       "      <td>레시피</td>\n",
       "      <td>선몬랩 피토 워터 디펜스 선스프레이 150ml SPF50+ PA++++</td>\n",
       "      <td>https://www.oliveyoung.co.kr/store/goods/getGo...</td>\n",
       "      <td>https://image.oliveyoung.co.kr/uploads/images/...</td>\n",
       "    </tr>\n",
       "    <tr>\n",
       "      <th>5</th>\n",
       "      <td>1</td>\n",
       "      <td>레시피</td>\n",
       "      <td>선몬랩 피토 워터 디펜스 선스프레이 80ml (SPF50+/ PA++++)</td>\n",
       "      <td>https://www.oliveyoung.co.kr/store/goods/getGo...</td>\n",
       "      <td>https://image.oliveyoung.co.kr/uploads/images/...</td>\n",
       "    </tr>\n",
       "    <tr>\n",
       "      <th>6</th>\n",
       "      <td>1</td>\n",
       "      <td>아넷사</td>\n",
       "      <td>아넷사 퍼펙트 UV 선스크린 스킨케어 스프레이 60g</td>\n",
       "      <td>https://www.oliveyoung.co.kr/store/goods/getGo...</td>\n",
       "      <td>https://image.oliveyoung.co.kr/uploads/images/...</td>\n",
       "    </tr>\n",
       "    <tr>\n",
       "      <th>7</th>\n",
       "      <td>1</td>\n",
       "      <td>메디힐</td>\n",
       "      <td>[NEW] 메디힐 수분 유브이 컷 선 스프레이 60ml</td>\n",
       "      <td>https://www.oliveyoung.co.kr/store/goods/getGo...</td>\n",
       "      <td>https://image.oliveyoung.co.kr/uploads/images/...</td>\n",
       "    </tr>\n",
       "  </tbody>\n",
       "</table>\n",
       "</div>"
      ],
      "text/plain": [
       "   page brand_name                               product_name  \\\n",
       "0     1       식물나라                   식물나라 워터프루프 선 스프레이 1+1 기획   \n",
       "1     1        AHC                AHC 마스터즈 수딩 아웃도어 선스프레이 55ml   \n",
       "2     1        낫포유             [3초 자외선차단]낫포유 비건 선 바디 미스트 85ml   \n",
       "3     1       닥터아토                          닥터아토 쿨링선스프레이150ml   \n",
       "4     1        레시피    선몬랩 피토 워터 디펜스 선스프레이 150ml SPF50+ PA++++   \n",
       "5     1        레시피  선몬랩 피토 워터 디펜스 선스프레이 80ml (SPF50+/ PA++++)   \n",
       "6     1        아넷사              아넷사 퍼펙트 UV 선스크린 스킨케어 스프레이 60g   \n",
       "7     1        메디힐             [NEW] 메디힐 수분 유브이 컷 선 스프레이 60ml   \n",
       "\n",
       "                                        product_link  \\\n",
       "0  https://www.oliveyoung.co.kr/store/goods/getGo...   \n",
       "1  https://www.oliveyoung.co.kr/store/goods/getGo...   \n",
       "2  https://www.oliveyoung.co.kr/store/goods/getGo...   \n",
       "3  https://www.oliveyoung.co.kr/store/goods/getGo...   \n",
       "4  https://www.oliveyoung.co.kr/store/goods/getGo...   \n",
       "5  https://www.oliveyoung.co.kr/store/goods/getGo...   \n",
       "6  https://www.oliveyoung.co.kr/store/goods/getGo...   \n",
       "7  https://www.oliveyoung.co.kr/store/goods/getGo...   \n",
       "\n",
       "                                           image_url  \n",
       "0  https://image.oliveyoung.co.kr/uploads/images/...  \n",
       "1  https://image.oliveyoung.co.kr/uploads/images/...  \n",
       "2  https://image.oliveyoung.co.kr/uploads/images/...  \n",
       "3  https://image.oliveyoung.co.kr/uploads/images/...  \n",
       "4  https://image.oliveyoung.co.kr/uploads/images/...  \n",
       "5  https://image.oliveyoung.co.kr/uploads/images/...  \n",
       "6  https://image.oliveyoung.co.kr/uploads/images/...  \n",
       "7  https://image.oliveyoung.co.kr/uploads/images/...  "
      ]
     },
     "execution_count": 13,
     "metadata": {},
     "output_type": "execute_result"
    }
   ],
   "source": [
    "df"
   ]
  },
  {
   "cell_type": "code",
   "execution_count": null,
   "id": "5a61aebe-12fd-42f0-a40d-b8ba17f66dd6",
   "metadata": {},
   "outputs": [],
   "source": []
  }
 ],
 "metadata": {
  "kernelspec": {
   "display_name": "Python 3 (ipykernel)",
   "language": "python",
   "name": "python3"
  },
  "language_info": {
   "codemirror_mode": {
    "name": "ipython",
    "version": 3
   },
   "file_extension": ".py",
   "mimetype": "text/x-python",
   "name": "python",
   "nbconvert_exporter": "python",
   "pygments_lexer": "ipython3",
   "version": "3.12.3"
  }
 },
 "nbformat": 4,
 "nbformat_minor": 5
}
