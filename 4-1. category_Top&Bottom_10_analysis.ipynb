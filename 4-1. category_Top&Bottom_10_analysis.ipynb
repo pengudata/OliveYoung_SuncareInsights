{
 "cells": [
  {
   "cell_type": "markdown",
   "id": "58c7c3e2-27d7-4535-9df8-33a9e5d4f43e",
   "metadata": {},
   "source": [
    "# 4-1. 카테고리별 리뷰 평균 평점 Top & Bottom 10 목록 뽑기"
   ]
  },
  {
   "cell_type": "markdown",
   "id": "8e307658-47df-4964-a60a-e1b050932979",
   "metadata": {},
   "source": [
    "1. **선크림, 선스틱, 선쿠션** 카테고리 \n",
    "- 제품 수와 제품별 리뷰 수가 충분히 많음\n",
    "- 데이터 신뢰성 확보를 위해 리뷰 수 100개 이상인 제품 안에서 상하위 제품 각 10개씩 선정\n",
    "2. **선패치, 선스프레이** 카테고리\n",
    "- 전체 제품 수가 20개 미만인 관계로 전체 제품에서 상위, 하위 제품 각 3개씩을 선정"
   ]
  },
  {
   "cell_type": "code",
   "execution_count": 2,
   "id": "8734943b-31bb-43c7-943e-983c0a1f3e08",
   "metadata": {},
   "outputs": [],
   "source": [
    "import pandas as pd\n",
    "import matplotlib.pyplot as plt\n",
    "from matplotlib import font_manager, rc\n",
    "\n",
    "plt.rcParams['font.family'] = 'NanumGothic'"
   ]
  },
  {
   "cell_type": "markdown",
   "id": "5bb19f3c-691d-4fb4-a3e7-3643176e1501",
   "metadata": {},
   "source": [
    "## 선크림 평균 평점 상하위 제품\n",
    "우선 충분한 데이터 표본이 신뢰성이 높다고 판단되어 리뷰댓글수가 100개 이상인 제품만 추려 확인하였습니다."
   ]
  },
  {
   "cell_type": "code",
   "execution_count": 59,
   "id": "6b22d854-0937-473b-a14e-0ac3278f7f62",
   "metadata": {},
   "outputs": [],
   "source": [
    "suncream_review_df = pd.read_csv(\"./preprocessed_data/preprocessed_suncream_data.csv\",encoding=\"utf-8\",low_memory=False)"
   ]
  },
  {
   "cell_type": "code",
   "execution_count": 60,
   "id": "04102686-6c38-40a4-9f3e-ea57292ebab5",
   "metadata": {},
   "outputs": [],
   "source": [
    "product_review_counts = suncream_review_df.groupby('product_name')['review'].count()"
   ]
  },
  {
   "cell_type": "code",
   "execution_count": 61,
   "id": "48a3c204-a9cc-48cf-ac4a-73139f0bc7c0",
   "metadata": {},
   "outputs": [],
   "source": [
    "filtered_products = product_review_counts[product_review_counts >= 100].index\n",
    "star_mean_by_filtered_product = suncream_review_df[suncream_review_df['product_name'].isin(filtered_products)].groupby('product_name')['star'].mean()"
   ]
  },
  {
   "cell_type": "code",
   "execution_count": 62,
   "id": "9ef1971f-aae8-4d13-b906-bc45f6d9f958",
   "metadata": {},
   "outputs": [],
   "source": [
    "top10_products = star_mean_by_filtered_product.nlargest(10)"
   ]
  },
  {
   "cell_type": "code",
   "execution_count": 63,
   "id": "41e93c26-94ae-4142-a78c-ad7afd5cf9b3",
   "metadata": {},
   "outputs": [
    {
     "data": {
      "text/plain": [
       "Index(['[세븐틴 승관PICK] 그린핑거 포레스트 워터리 에센스 선크림 80ml',\n",
       "       '[한동희 Pick] 딘시 프리미엄 비건 마일드 모이스트 선크림 SPF50+ PA++++ 50ml',\n",
       "       '[안다 Pick] 딘시 프리미엄 비건 톤 업 선크림 SPF50+ PA++++ 50ml',\n",
       "       '비욘드 엔젤아쿠아 보습 장벽 선퀴드 50ml',\n",
       "       '[수분 선크림]스킨1004 마다가스카르 센텔라 히알루-시카 워터핏 선 세럼 50ml',\n",
       "       '[8월 올영픽][무기자차/콜라보키링증정] 닥터지 그린 마일드 업 선 플러스 50ml 1+1 카카오프렌즈 콜라보 기획',\n",
       "       '[광노화선케어] 아이오페 UV쉴드 선프로텍터 50ml 기획(+15ml)',\n",
       "       '[화잘먹썬] 하멜 비건 아쿠아 글로우 선세럼 50ml ', '라곰 셀러스 선 젤 플러스 40ml',\n",
       "       '[속건조해결/화잘먹] 리얼베리어 세라 수분 장벽 선크림 50ml 1+1 기획'],\n",
       "      dtype='object', name='product_name')"
      ]
     },
     "execution_count": 63,
     "metadata": {},
     "output_type": "execute_result"
    }
   ],
   "source": [
    "top10_products.index"
   ]
  },
  {
   "cell_type": "code",
   "execution_count": 64,
   "id": "f27d74b1-1c0c-4123-84cd-e5110efd0da9",
   "metadata": {},
   "outputs": [],
   "source": [
    "bottom10_products = star_mean_by_filtered_product.nsmallest(10)"
   ]
  },
  {
   "cell_type": "code",
   "execution_count": 65,
   "id": "785c8ecd-5dbf-460d-90a4-96139ae5e25e",
   "metadata": {},
   "outputs": [
    {
     "data": {
      "text/plain": [
       "Index(['[디렉터파이개발]에뛰드 순정 디렉터 톤업 수정 선크림 40ml +20ml 기획',\n",
       "       '[8월 올영픽]에뛰드 순정 디렉터 톤업 수정 선크림 40ml 1+1 기획',\n",
       "       '아벤느 선 미네랄 크림 50ml SPF50+ PA++++',\n",
       "       '[김혜수PICK] AHC 누드 톤업 크림 내추럴 글로우 40ml SPF50+ PA++++',\n",
       "       '휘게 프레쉬 비건 톤업 선크림 50ml', '바이오더마 포토덤 키드 SPF50+ 100ml',\n",
       "       '싸이닉 엔조이 파데스킵 톤업 선크림 50g 더블 기획',\n",
       "       '[파데프리 선크림/더보이즈 큐PICK]듀이트리 어반쉐이드 커버 앤 핏 선 더블기획(40ml+40ml)',\n",
       "       '[보습장벽/무기자차] 로벡틴 인텐스 모이스처 선크림 50ml (딥 모이스처)',\n",
       "       '[무기자차]닥터올가 100 선크림 50ml 기획(+30ml 증정)'],\n",
       "      dtype='object', name='product_name')"
      ]
     },
     "execution_count": 65,
     "metadata": {},
     "output_type": "execute_result"
    }
   ],
   "source": [
    "bottom10_products.sort_values(ascending=True).index"
   ]
  },
  {
   "cell_type": "markdown",
   "id": "58e7aa9b-5180-421c-88ac-1249903d488a",
   "metadata": {},
   "source": [
    "## 선스틱 평균 평점 상하위 제품"
   ]
  },
  {
   "cell_type": "code",
   "execution_count": 66,
   "id": "80173bc3-52a8-4a05-bcb4-8bffe2c16b85",
   "metadata": {},
   "outputs": [],
   "source": [
    "sunstic_review_df = pd.read_csv(\"./preprocessed_data/preprocessed_sunstic_data.csv\",encoding=\"utf-8\",low_memory=False)"
   ]
  },
  {
   "cell_type": "code",
   "execution_count": 67,
   "id": "beb8b975-4abe-45c0-ae42-d09be3be8e77",
   "metadata": {},
   "outputs": [],
   "source": [
    "product_review_counts = sunstic_review_df.groupby('product_name')['review'].count()"
   ]
  },
  {
   "cell_type": "code",
   "execution_count": 68,
   "id": "5ae661b9-35bb-4cfe-b107-5be0e6de7c20",
   "metadata": {},
   "outputs": [],
   "source": [
    "filtered_products = product_review_counts[product_review_counts >= 100].index\n",
    "star_mean_by_filtered_product = sunstic_review_df[sunstic_review_df['product_name'].isin(filtered_products)].groupby('product_name')['star'].mean()"
   ]
  },
  {
   "cell_type": "code",
   "execution_count": 69,
   "id": "212cab94-70b4-444f-98bc-a8a13d386dd3",
   "metadata": {},
   "outputs": [],
   "source": [
    "top10_products = star_mean_by_filtered_product.nlargest(10)"
   ]
  },
  {
   "cell_type": "code",
   "execution_count": 70,
   "id": "605cc09a-3066-424c-b363-d74060782ce2",
   "metadata": {},
   "outputs": [
    {
     "data": {
      "text/plain": [
       "Index(['[워터프루프/김고은 PICK] 가히 에어리 핏 선스틱 14g',\n",
       "       '[안선영 Pick] 딘시 프리미엄 비건 3 in 1 선스틱 SPF50+ PA++++ 10.5g',\n",
       "       '로우퀘스트 에키네시아 에어리 선스틱 19g',\n",
       "       '[NEW/3초열진정] 토코보 시카 쿨링 선스틱 18g SPF50+ PA++++',\n",
       "       '라로제 클린 선스틱 SPF 50 PA++++ 18.5g (워터프루프)',\n",
       "       '[보송매트]토코보 코튼 소프트 선스틱 19g SPF50+ PA++++',\n",
       "       '[워터프루프/백송민PICK] 톤핏선 비건 노세범 프라이머 선스틱 SPF50+ PA++++',\n",
       "       '[박세리 공동개발] AHC 마스터즈 에어리치 선스틱 22g', '[즉각쿨링] 라운드랩 자작나무 수분 선스틱 19g 더블 기획',\n",
       "       '[급속쿨링]라운드어라운드 컴포트 그린티 에어 선스틱 증정기획(+뽀득폼30ml증정)'],\n",
       "      dtype='object', name='product_name')"
      ]
     },
     "execution_count": 70,
     "metadata": {},
     "output_type": "execute_result"
    }
   ],
   "source": [
    "top10_products.index"
   ]
  },
  {
   "cell_type": "code",
   "execution_count": 71,
   "id": "3717c0c6-d78d-4a12-861d-c1170dcf3911",
   "metadata": {},
   "outputs": [],
   "source": [
    "bottom10_products = star_mean_by_filtered_product.nsmallest(10)"
   ]
  },
  {
   "cell_type": "code",
   "execution_count": 72,
   "id": "3206a10c-6c2f-4e78-8ffe-743df38dd911",
   "metadata": {},
   "outputs": [
    {
     "data": {
      "text/plain": [
       "Index(['[혼합자차/더보이즈 큐PICK]듀이트리 어반쉐이드 피치라이크 톤업 선스틱 13g',\n",
       "       '닥터아토 실키 포켓 선 스틱 SPF 50+', '브링그린 티트리시카쿨링선스틱 20g 리필기획(배스킨콜라보)',\n",
       "       '브링그린 티트리시카쿨링선스틱 20g_NEW', '싸이닉 엔조이 슈퍼 액티브 에어리 썬스틱 15g',\n",
       "       '[진정보송] 차앤박(CNP) 더마 쉴드 선스틱 SPF50+ 18g', '[민감피부] 닥터지 그린마일드 업 선스틱 20g',\n",
       "       '[소프트-파우더리 시스템] 리쥬란 힐러 UV 프로텍션 밤 19g',\n",
       "       '[쿨링/더보이즈 큐PICK]듀이트리 어반쉐이드 쿨 카밍 선스틱 20g',\n",
       "       '김정문알로에 큐어 워터 스플래쉬 쿨링 선스틱 더블기획(23g + 23g)'],\n",
       "      dtype='object', name='product_name')"
      ]
     },
     "execution_count": 72,
     "metadata": {},
     "output_type": "execute_result"
    }
   ],
   "source": [
    "bottom10_products.sort_values(ascending=True).index"
   ]
  },
  {
   "cell_type": "markdown",
   "id": "8e0336f5-2d6f-4e0a-8231-7d49a5bcd4fd",
   "metadata": {},
   "source": [
    "## 선쿠션 평균 평점 상하위 제품"
   ]
  },
  {
   "cell_type": "code",
   "execution_count": 73,
   "id": "34e17b28-6bf2-4e36-86a2-0c86dbbc7fd3",
   "metadata": {},
   "outputs": [],
   "source": [
    "suncushion_review_df = pd.read_csv(\"./preprocessed_data/preprocessed_suncushion_data.csv\",encoding=\"utf-8\")"
   ]
  },
  {
   "cell_type": "code",
   "execution_count": 74,
   "id": "fce98164-139c-4b7c-b1de-88edd6a05319",
   "metadata": {},
   "outputs": [],
   "source": [
    "product_review_counts = suncushion_review_df.groupby('product_name')['review'].count()"
   ]
  },
  {
   "cell_type": "code",
   "execution_count": 75,
   "id": "6ccd873d-4e94-42bd-96e0-f4f8aed1b223",
   "metadata": {},
   "outputs": [],
   "source": [
    "filtered_products = product_review_counts[product_review_counts >= 100].index\n",
    "star_mean_by_filtered_product = suncushion_review_df[suncushion_review_df['product_name'].isin(filtered_products)].groupby('product_name')['star'].mean()"
   ]
  },
  {
   "cell_type": "code",
   "execution_count": 76,
   "id": "37185d0b-6d5d-4a81-aebf-3b571d003d6b",
   "metadata": {},
   "outputs": [],
   "source": [
    "top10_products = star_mean_by_filtered_product.nlargest(10)"
   ]
  },
  {
   "cell_type": "code",
   "execution_count": 77,
   "id": "24a3cea1-ca72-4764-88ad-2afc5ab87391",
   "metadata": {},
   "outputs": [
    {
     "data": {
      "text/plain": [
       "Index(['[스티커 증정]그린핑거 포레스트 멀티 디펜스 선쿠션 산리오 에디션 2종(시나모롤/헬로키티)',\n",
       "       '[NEW] 아떼 속광 톤업 선쿠션 SPF50+/PA++++',\n",
       "       '[NEW/민감진정]AGE20S 선 에센스 팩트 무기자차 카밍 롱 프로텍션 12.5g (본품+리필)',\n",
       "       '[오롤리콜라보]AGE20S 선 에센스팩트 카밍 롱 프로텍션 12.5g*2 (+파우치, 스티커 증정)',\n",
       "       '[파데프리/프롬젤라PICK] 톤핏선 비건 핑베 톤업 선쿠션 SPF50+ PA++++',\n",
       "       '식물나라 뽀얀쌀 생기 톤업 선쿠션 보노보노 기획 2종 (01호/02호)',\n",
       "       '식물나라 뽀얀쌀 생기 톤업 선 쿠션 단품(01 뽀얀 화이트/02생기 피치)',\n",
       "       '[1+1][간편밀착] 달바 워터풀 톤업 선 쿠션 듀오 기획(15g+15g)',\n",
       "       '[NEW] 브링그린 티트리시카톤업선쿠션 리필기획(배스킨콜라보)', '브링그린 티트리시카톤업선쿠션 15g_NEW'],\n",
       "      dtype='object', name='product_name')"
      ]
     },
     "execution_count": 77,
     "metadata": {},
     "output_type": "execute_result"
    }
   ],
   "source": [
    "top10_products.index"
   ]
  },
  {
   "cell_type": "code",
   "execution_count": 78,
   "id": "64755321-bbc4-431f-bc30-853ad38083c5",
   "metadata": {},
   "outputs": [],
   "source": [
    "bottom10_products = star_mean_by_filtered_product.nsmallest(10)"
   ]
  },
  {
   "cell_type": "code",
   "execution_count": 79,
   "id": "b81d088d-31f3-433b-b420-6be059edfaa5",
   "metadata": {},
   "outputs": [
    {
     "data": {
      "text/plain": [
       "Index(['카트린 내추럴100 썬킬RX 선파우더 SPF46 PA+++',\n",
       "       '[무기자차/더보이즈 큐PICK]듀이트리 어반쉐이드 커버 앤 핏 선쿠션 14g',\n",
       "       '[파데프리] 넘버즈인 3번 도자기결 고이빚은 세라믹쿠션 SPF50+ PA++++',\n",
       "       '[오롤리콜라보]AGE20S 핑크 수분광 글로우핏 톤업 선팩트 12.5g*2 (+파우치, 스티커 증정)',\n",
       "       '[배라콜라보] 브링그린 티트리시카 선 3종(선크림/선스틱/선쿠션)',\n",
       "       '김정문알로에 큐어 아쿠아 마일드 쿨링 선쿠션 리필 기획(25g+리필)',\n",
       "       '셀퓨전씨 토닝 썬쿠션 13g SPF 50+/PA++++', '[수분쿨링] 라운드랩 자작나무 수분 선쿠션 15g',\n",
       "       '[생기톤업] 달바 워터풀 톤업 선 쿠션 15g', 'AHC 세이프온 마일드 선 쿠션 25g'],\n",
       "      dtype='object', name='product_name')"
      ]
     },
     "execution_count": 79,
     "metadata": {},
     "output_type": "execute_result"
    }
   ],
   "source": [
    "bottom10_products.sort_values(ascending=True).index"
   ]
  },
  {
   "cell_type": "markdown",
   "id": "baa036a7-341c-45cd-be0a-207615ef322e",
   "metadata": {},
   "source": [
    "## 선패치 평균 평점 상하위 제품"
   ]
  },
  {
   "cell_type": "code",
   "execution_count": 126,
   "id": "3317cdb3-280e-4d0e-b945-f5c049af4277",
   "metadata": {},
   "outputs": [],
   "source": [
    "sunpatch_review_df = pd.read_csv(\"./preprocessed_data/preprocessed_sunpatch_data.csv\",encoding=\"utf-8\")"
   ]
  },
  {
   "cell_type": "code",
   "execution_count": 127,
   "id": "3f087cbb-2d22-47f2-9d6d-690456e9183e",
   "metadata": {},
   "outputs": [],
   "source": [
    "product_review_counts = sunpatch_review_df.groupby('product_name')['review'].count()"
   ]
  },
  {
   "cell_type": "code",
   "execution_count": 128,
   "id": "c83682be-372c-4425-9fea-e0b828e6c9c8",
   "metadata": {},
   "outputs": [],
   "source": [
    "filtered_products = product_review_counts[product_review_counts >= 100].index\n",
    "star_mean_by_filtered_product = sunpatch_review_df[sunpatch_review_df['product_name'].isin(filtered_products)].groupby('product_name')['star'].mean()"
   ]
  },
  {
   "cell_type": "code",
   "execution_count": 129,
   "id": "f34571f6-7238-4f26-a882-79155e56389c",
   "metadata": {},
   "outputs": [],
   "source": [
    "top3_products = star_mean_by_filtered_product.nlargest(3)"
   ]
  },
  {
   "cell_type": "code",
   "execution_count": 130,
   "id": "08e410b0-5b5c-4952-8a0f-aacbffb03384",
   "metadata": {},
   "outputs": [
    {
     "data": {
      "text/plain": [
       "Index(['[NEW] 싸이닉 엔조이 아웃도어 쿨링 선 패치 4개입', '[초특가]식물나라 UV차단 아웃도어 선패치(2eaX5sets)',\n",
       "       '에이바자르 액티비티 화이트닝 아이패치 4회분'],\n",
       "      dtype='object', name='product_name')"
      ]
     },
     "execution_count": 130,
     "metadata": {},
     "output_type": "execute_result"
    }
   ],
   "source": [
    "top3_products.index"
   ]
  },
  {
   "cell_type": "code",
   "execution_count": 131,
   "id": "16c726bb-80ef-4f72-899c-20a6b6c53bbe",
   "metadata": {},
   "outputs": [],
   "source": [
    "bottom3_products = star_mean_by_filtered_product.nsmallest(3)"
   ]
  },
  {
   "cell_type": "code",
   "execution_count": 132,
   "id": "d66dfe74-b319-4dfa-b0f1-2f811f1947a8",
   "metadata": {},
   "outputs": [
    {
     "data": {
      "text/plain": [
       "Index(['프란츠 네이키드 선쉴드 펩타이드 패치 L사이즈 5개입',\n",
       "       '[4매입/나비존집중] 메디힐 유브이 컷 아웃도어 선 패치 [트리플 프로텍션]',\n",
       "       '[박세리 공동개발] AHC 마스터즈 프로 패치 2스텝 4매'],\n",
       "      dtype='object', name='product_name')"
      ]
     },
     "execution_count": 132,
     "metadata": {},
     "output_type": "execute_result"
    }
   ],
   "source": [
    "bottom3_products.index"
   ]
  },
  {
   "cell_type": "markdown",
   "id": "99d3dd0b-7007-44cb-928f-89637317bf1d",
   "metadata": {},
   "source": [
    "## 선스프레이 평균 평점 상하위 제품"
   ]
  },
  {
   "cell_type": "code",
   "execution_count": 133,
   "id": "99cb252a-40eb-4968-a627-ca13269581ec",
   "metadata": {},
   "outputs": [],
   "source": [
    "sunspray_review_df = pd.read_csv(\"./preprocessed_data/preprocessed_sunspray_data.csv\",encoding=\"utf-8\")"
   ]
  },
  {
   "cell_type": "code",
   "execution_count": 134,
   "id": "c71a7a4a-f678-423e-baa3-9b082e0845d5",
   "metadata": {},
   "outputs": [],
   "source": [
    "product_review_counts = sunspray_review_df.groupby('product_name')['review'].count()"
   ]
  },
  {
   "cell_type": "code",
   "execution_count": 135,
   "id": "47aa848c-bcdd-4f02-992e-96720a55134d",
   "metadata": {},
   "outputs": [],
   "source": [
    "filtered_products = product_review_counts[product_review_counts >= 100].index\n",
    "star_mean_by_filtered_product = sunspray_review_df[sunspray_review_df['product_name'].isin(filtered_products)].groupby('product_name')['star'].mean()"
   ]
  },
  {
   "cell_type": "code",
   "execution_count": 136,
   "id": "3737bb28-5a77-45a9-b8d7-ccebf9e72953",
   "metadata": {},
   "outputs": [],
   "source": [
    "top3_products = star_mean_by_filtered_product.nlargest(3)"
   ]
  },
  {
   "cell_type": "code",
   "execution_count": 137,
   "id": "943ce9ba-e923-450c-beb4-83e6d1956373",
   "metadata": {},
   "outputs": [
    {
     "data": {
      "text/plain": [
       "Index(['아넷사 퍼펙트 UV 선스크린 스킨케어 스프레이 60g', 'AHC 마스터즈 수딩 아웃도어 선스프레이 55ml',\n",
       "       '식물나라 워터프루프 선 스프레이 1+1 기획'],\n",
       "      dtype='object', name='product_name')"
      ]
     },
     "execution_count": 137,
     "metadata": {},
     "output_type": "execute_result"
    }
   ],
   "source": [
    "top3_products.index"
   ]
  },
  {
   "cell_type": "code",
   "execution_count": 138,
   "id": "86c3cb63-7a37-48a4-97b3-bee29659dcff",
   "metadata": {},
   "outputs": [],
   "source": [
    "bottom3_products = star_mean_by_filtered_product.nsmallest(3)"
   ]
  },
  {
   "cell_type": "code",
   "execution_count": 139,
   "id": "c2e01dc3-6206-4358-84b9-e96c7e9edcaf",
   "metadata": {},
   "outputs": [
    {
     "data": {
      "text/plain": [
       "Index(['닥터아토 쿨링선스프레이150ml', '식물나라 워터프루프 선 스프레이 1+1 기획',\n",
       "       'AHC 마스터즈 수딩 아웃도어 선스프레이 55ml'],\n",
       "      dtype='object', name='product_name')"
      ]
     },
     "execution_count": 139,
     "metadata": {},
     "output_type": "execute_result"
    }
   ],
   "source": [
    "bottom3_products.index"
   ]
  }
 ],
 "metadata": {
  "kernelspec": {
   "display_name": "Python 3 (ipykernel)",
   "language": "python",
   "name": "python3"
  },
  "language_info": {
   "codemirror_mode": {
    "name": "ipython",
    "version": 3
   },
   "file_extension": ".py",
   "mimetype": "text/x-python",
   "name": "python",
   "nbconvert_exporter": "python",
   "pygments_lexer": "ipython3",
   "version": "3.12.3"
  }
 },
 "nbformat": 4,
 "nbformat_minor": 5
}
