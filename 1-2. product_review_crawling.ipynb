{
 "cells": [
  {
   "cell_type": "markdown",
   "id": "56ccd200-30a2-40a2-992d-d99755794f3b",
   "metadata": {},
   "source": [
    "# 1-2. 카테고리 제품별 리뷰 크롤링"
   ]
  },
  {
   "cell_type": "code",
   "execution_count": 1,
   "id": "15d7045f-3efe-4b92-8c2b-752e84a778fa",
   "metadata": {},
   "outputs": [],
   "source": [
    "import time\n",
    "import csv\n",
    "import os\n",
    "from bs4 import BeautifulSoup\n",
    "from selenium.common.exceptions import NoSuchElementException\n",
    "from selenium.webdriver.support.ui import WebDriverWait\n",
    "from selenium.webdriver.support import expected_conditions as EC"
   ]
  },
  {
   "cell_type": "code",
   "execution_count": 2,
   "id": "8c977100-5b52-4050-84a0-149d343f2623",
   "metadata": {},
   "outputs": [],
   "source": [
    "from itertools import zip_longest"
   ]
  },
  {
   "cell_type": "code",
   "execution_count": 3,
   "id": "ed725306-4c62-40bc-83f4-c25ba4ae0144",
   "metadata": {},
   "outputs": [],
   "source": [
    "from selenium import webdriver\n",
    "from selenium.webdriver.common.by import By"
   ]
  },
  {
   "cell_type": "code",
   "execution_count": 12,
   "id": "b36d7c78-675f-47f1-ad16-48dfe6c9ab09",
   "metadata": {},
   "outputs": [],
   "source": [
    "def load_data():\n",
    "    data = []\n",
    "    with open(\"./data/sunspray_link_test.csv\", encoding = 'utf-8') as fr:\n",
    "        reader = csv.DictReader(fr)\n",
    "        for row in reader:\n",
    "            data.append(row)\n",
    "    return data"
   ]
  },
  {
   "cell_type": "code",
   "execution_count": 13,
   "id": "28ded1ef-b38d-4a9e-8007-7f84062d0268",
   "metadata": {},
   "outputs": [],
   "source": [
    "def write_data(data):\n",
    "    file_path = \"./data/sunspray_total_reviews_11.csv\"\n",
    "    file_exists = os.path.isfile(\"./data/sunspray_reviews_11.csv\")\n",
    "    \n",
    "    with open(file_path, \"a\", newline='', encoding='utf-8-sig') as fw:\n",
    "        writer = csv.DictWriter(fw, fieldnames=[\"page\", \"product_name\", \"star\", \"title\", \"review\",\"skin_type\"])\n",
    "        \n",
    "        # 파일이 존재하지 않으면 헤더를 작성합니다.\n",
    "        if not file_exists:\n",
    "            writer.writeheader()\n",
    "        \n",
    "        for row in data:\n",
    "            writer.writerow(row)"
   ]
  },
  {
   "cell_type": "code",
   "execution_count": 17,
   "id": "fc5ea024-dc85-4d6f-b2c1-885397a8d345",
   "metadata": {},
   "outputs": [],
   "source": [
    "def crawl_parse_review_html_write_data(url):\n",
    "    \n",
    "    driver = webdriver.Chrome()\n",
    "    \n",
    "    try:\n",
    "        driver.get(url)\n",
    "        WebDriverWait(driver, 10).until(EC.element_to_be_clickable((By.XPATH, '//*[@id=\"reviewInfo\"]'))).click()\n",
    "        time.sleep(5)\n",
    "\n",
    "        for page_num in range(1, 200):\n",
    "            parse_review_text_list = []\n",
    "            html = driver.page_source\n",
    "            soup = BeautifulSoup(html, 'lxml')\n",
    "\n",
    "            product_name_tag = soup.find(\"p\", class_=\"prd_name\")\n",
    "            product_name = product_name_tag.text if product_name_tag else []\n",
    "\n",
    "            user_clrfix_tags = soup.find_all(\"div\", class_=\"user clrfix\")\n",
    "            review_tags = soup.find_all(\"div\", class_=\"txt_inner\")\n",
    "            title_tags = soup.find_all(\"div\", class_=\"poll_sample\")\n",
    "            star_tags = soup.find_all(\"div\", class_ = \"score_area\")\n",
    "\n",
    "            combined_list = list(zip_longest(title_tags, review_tags, user_clrfix_tags,  star_tags, fillvalue=None))\n",
    "\n",
    "            for title_tag, review_tag, user_clrfix_tag, star_tag in combined_list:\n",
    "                review_text = review_tag.text if review_tag else None\n",
    "                title_text = [tag.text.strip() for tag in title_tag.find_all(\"span\")[1::2]] if title_tag else None\n",
    "                span_text = [span.text.strip() for span in user_clrfix_tag.find_all(\"span\")[1:]] if user_clrfix_tag else None\n",
    "                star_text = [star.text.strip() for star in star_tag.find_all(\"span\")][0]\n",
    "\n",
    "                review_data = {\n",
    "                    \"page\": page_num,\n",
    "                    \"product_name\": product_name,\n",
    "                    \"star\" : star_text,\n",
    "                    \"title\": title_text,\n",
    "                    \"review\": review_text,\n",
    "                    \"skin_type\": span_text\n",
    "                }\n",
    "                parse_review_text_list.append(review_data)\n",
    "\n",
    "            write_data(parse_review_text_list)\n",
    "\n",
    "            try:\n",
    "                next_button = driver.find_element(By.XPATH, f\"//a[@data-page-no='{page_num + 1}']\")\n",
    "                next_button.click()\n",
    "                time.sleep(5)\n",
    "            except NoSuchElementException:\n",
    "                print(f\"Page {page_num} is the last page. \\n \")\n",
    "                break\n",
    "\n",
    "    finally:\n",
    "        driver.quit()\n",
    "    \n",
    "    return parse_review_text_list"
   ]
  },
  {
   "cell_type": "code",
   "execution_count": 16,
   "id": "3b5dba1a-8cdc-46ef-a1c6-f1fb9759e91d",
   "metadata": {},
   "outputs": [],
   "source": [
    "if __name__ == '__main__':\n",
    "    data = load_data()\n",
    "    parse_review_list = []\n",
    "    \n",
    "    for i, review in enumerate(data):\n",
    "        url = review[\"product_link\"]\n",
    "        try:\n",
    "            parse_review = crawl_parse_review_html_write_data(url)\n",
    "        except:\n",
    "            continue\n",
    "        print(f\"{i}번 제품 끝\")"
   ]
  },
  {
   "cell_type": "code",
   "execution_count": null,
   "id": "95d177fb-3214-4992-9616-ac76a561d633",
   "metadata": {},
   "outputs": [],
   "source": []
  },
  {
   "cell_type": "code",
   "execution_count": null,
   "id": "f5c7a5c8-0aab-46d5-ba30-af76a0ef31cb",
   "metadata": {},
   "outputs": [],
   "source": []
  }
 ],
 "metadata": {
  "kernelspec": {
   "display_name": "Python 3 (ipykernel)",
   "language": "python",
   "name": "python3"
  },
  "language_info": {
   "codemirror_mode": {
    "name": "ipython",
    "version": 3
   },
   "file_extension": ".py",
   "mimetype": "text/x-python",
   "name": "python",
   "nbconvert_exporter": "python",
   "pygments_lexer": "ipython3",
   "version": "3.12.3"
  }
 },
 "nbformat": 4,
 "nbformat_minor": 5
}
