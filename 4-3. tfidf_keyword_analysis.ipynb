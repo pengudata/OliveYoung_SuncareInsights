{
 "cells": [
  {
   "cell_type": "markdown",
   "id": "498177fd-271f-4231-a387-81327be20f14",
   "metadata": {},
   "source": [
    "# 4-3. 키워드 분석 검증"
   ]
  },
  {
   "cell_type": "markdown",
   "id": "66c94e1c-0b3d-4c64-aebc-00cc18daf3a2",
   "metadata": {},
   "source": [
    "4-2에서 도출한 각 카테고리별 중점 키워드가  \n",
    "해당 카테고리에서 다른 카테고리보다 더 자주 언급되는지 여부를 tf-idf 분석을 통해 검증"
   ]
  },
  {
   "cell_type": "code",
   "execution_count": 1,
   "id": "af70a757-b9db-4149-a1e7-b1fc464f93af",
   "metadata": {},
   "outputs": [],
   "source": [
    "import pandas as pd\n",
    "from collections import Counter, defaultdict\n",
    "import matplotlib.pyplot as plt\n",
    "from matplotlib import font_manager, rc\n",
    "from matplotlib import pyplot as plt\n",
    "\n",
    "plt.rcParams['font.family'] = 'NanumGothic'"
   ]
  },
  {
   "cell_type": "code",
   "execution_count": 2,
   "id": "97aec067-abd7-41a6-ae07-fb983de1109f",
   "metadata": {},
   "outputs": [],
   "source": [
    "# 파일불러오기\n",
    "suncream_df = pd.read_csv(\"./preprocessed_data/preprocessed_suncream_data.csv\",encoding =\"utf-8\",low_memory=False)\n",
    "sunstic_df = pd.read_csv(\"./preprocessed_data/preprocessed_sunstic_data.csv\",encoding =\"utf-8\")\n",
    "suncushion_df = pd.read_csv(\"./preprocessed_data/preprocessed_suncushion_data.csv\",encoding =\"utf-8\")\n",
    "sunpatch_df = pd.read_csv(\"./preprocessed_data/preprocessed_sunpatch_data.csv\",encoding =\"utf-8\")\n",
    "sunspray_df = pd.read_csv(\"./preprocessed_data/preprocessed_sunspray_data.csv\",encoding =\"utf-8\")"
   ]
  },
  {
   "cell_type": "code",
   "execution_count": 3,
   "id": "7260558a-889d-48e1-8094-46db8b2ddc4f",
   "metadata": {},
   "outputs": [
    {
     "data": {
      "application/vnd.jupyter.widget-view+json": {
       "model_id": "c843489e9d284f4087598b65f1e85b76",
       "version_major": 2,
       "version_minor": 0
      },
      "text/plain": [
       "  0%|          | 0/139007 [00:00<?, ?it/s]"
      ]
     },
     "metadata": {},
     "output_type": "display_data"
    },
    {
     "data": {
      "application/vnd.jupyter.widget-view+json": {
       "model_id": "900681e9de8642cfb9722884c61c6093",
       "version_major": 2,
       "version_minor": 0
      },
      "text/plain": [
       "  0%|          | 0/25743 [00:00<?, ?it/s]"
      ]
     },
     "metadata": {},
     "output_type": "display_data"
    },
    {
     "data": {
      "application/vnd.jupyter.widget-view+json": {
       "model_id": "92e59df3684146ab9a63a366e79a77b2",
       "version_major": 2,
       "version_minor": 0
      },
      "text/plain": [
       "  0%|          | 0/14358 [00:00<?, ?it/s]"
      ]
     },
     "metadata": {},
     "output_type": "display_data"
    },
    {
     "data": {
      "application/vnd.jupyter.widget-view+json": {
       "model_id": "a353ffa0e49c4b62b80bff096b49c9cc",
       "version_major": 2,
       "version_minor": 0
      },
      "text/plain": [
       "  0%|          | 0/2544 [00:00<?, ?it/s]"
      ]
     },
     "metadata": {},
     "output_type": "display_data"
    },
    {
     "data": {
      "application/vnd.jupyter.widget-view+json": {
       "model_id": "b388a24640db4908a4368d0bf3c1d467",
       "version_major": 2,
       "version_minor": 0
      },
      "text/plain": [
       "  0%|          | 0/1559 [00:00<?, ?it/s]"
      ]
     },
     "metadata": {},
     "output_type": "display_data"
    }
   ],
   "source": [
    "# 문자열로 표현된 토큰화된 키워드 목록 리스트들을 리스트로 변환\n",
    "from tqdm.notebook import tqdm\n",
    "\n",
    "tqdm.pandas()\n",
    "def process_reviews(dfs, column_name='processed_review'):\n",
    "    for df in dfs:\n",
    "        df[column_name] = df[column_name].progress_apply(lambda x: eval(x))\n",
    "\n",
    "dataframes = [suncream_df, sunstic_df, suncushion_df, sunpatch_df, sunspray_df]\n",
    "\n",
    "process_reviews(dataframes)"
   ]
  },
  {
   "cell_type": "code",
   "execution_count": 4,
   "id": "67b17f6c-9ce9-4025-a114-ded09c4b5e65",
   "metadata": {},
   "outputs": [],
   "source": [
    "from sklearn.feature_extraction.text import TfidfVectorizer"
   ]
  },
  {
   "cell_type": "code",
   "execution_count": 5,
   "id": "b94275b6-3639-4781-92d7-026ee6523fd9",
   "metadata": {},
   "outputs": [],
   "source": [
    "# 전체 리뷰 데이터 합치기\n",
    "combined_df = pd.concat([suncream_df[['category', 'processed_review']],\n",
    "                        sunstic_df[['category', 'processed_review']],\n",
    "                        suncushion_df[['category', 'processed_review']],\n",
    "                        sunpatch_df[['category', 'processed_review']],\n",
    "                        sunspray_df[['category', 'processed_review']],], ignore_index=True)"
   ]
  },
  {
   "cell_type": "code",
   "execution_count": 6,
   "id": "ea5c6921-2266-45ca-805a-bbd7fd239f7a",
   "metadata": {},
   "outputs": [],
   "source": [
    "combined_df['processed_review'] = combined_df['processed_review'].apply(lambda x: ' '.join(x) if isinstance(x, list) else x)"
   ]
  },
  {
   "cell_type": "code",
   "execution_count": 7,
   "id": "0002c407-04bc-44b8-9420-8334ff11e111",
   "metadata": {},
   "outputs": [
    {
     "data": {
      "text/html": [
       "<div>\n",
       "<style scoped>\n",
       "    .dataframe tbody tr th:only-of-type {\n",
       "        vertical-align: middle;\n",
       "    }\n",
       "\n",
       "    .dataframe tbody tr th {\n",
       "        vertical-align: top;\n",
       "    }\n",
       "\n",
       "    .dataframe thead th {\n",
       "        text-align: right;\n",
       "    }\n",
       "</style>\n",
       "<table border=\"1\" class=\"dataframe\">\n",
       "  <thead>\n",
       "    <tr style=\"text-align: right;\">\n",
       "      <th></th>\n",
       "      <th>category</th>\n",
       "      <th>processed_review</th>\n",
       "    </tr>\n",
       "  </thead>\n",
       "  <tbody>\n",
       "    <tr>\n",
       "      <th>0</th>\n",
       "      <td>suncream</td>\n",
       "      <td>진심 이번 기획 장바구니 세일 시작 판매 종료 이게 무슨 일이야 기획 상품 인기 기...</td>\n",
       "    </tr>\n",
       "    <tr>\n",
       "      <th>1</th>\n",
       "      <td>suncream</td>\n",
       "      <td>자극 무난 데일리 백탁 그런지 촉촉 피부 예민 신분 본인 여드름성 피부 톤업 촉촉 ...</td>\n",
       "    </tr>\n",
       "    <tr>\n",
       "      <th>2</th>\n",
       "      <td>suncream</td>\n",
       "      <td>발림성 건조 무기자차 에스트라 스킨 케어 고민 찰나 귀여운 기획 세트 컬러 로션 보...</td>\n",
       "    </tr>\n",
       "    <tr>\n",
       "      <th>3</th>\n",
       "      <td>suncream</td>\n",
       "      <td>에스트라 무기자차 예전 샘플 좋아서 수난 시대 과정 피부 사계절 무기자차 겨울 건조...</td>\n",
       "    </tr>\n",
       "    <tr>\n",
       "      <th>4</th>\n",
       "      <td>suncream</td>\n",
       "      <td>피부 타입 민감성 수부지 타입 유기자차 트러블 절대 무기자차 자극 트러블 적도 민감...</td>\n",
       "    </tr>\n",
       "    <tr>\n",
       "      <th>...</th>\n",
       "      <td>...</td>\n",
       "      <td>...</td>\n",
       "    </tr>\n",
       "    <tr>\n",
       "      <th>183206</th>\n",
       "      <td>sunspray</td>\n",
       "      <td></td>\n",
       "    </tr>\n",
       "    <tr>\n",
       "      <th>183207</th>\n",
       "      <td>sunspray</td>\n",
       "      <td>여름 기존 아넷사 온몸 스프 간편</td>\n",
       "    </tr>\n",
       "    <tr>\n",
       "      <th>183208</th>\n",
       "      <td>sunspray</td>\n",
       "      <td>처음 기대</td>\n",
       "    </tr>\n",
       "    <tr>\n",
       "      <th>183209</th>\n",
       "      <td>sunspray</td>\n",
       "      <td>여름 팔 종아리 발 아넷사 신제품</td>\n",
       "    </tr>\n",
       "    <tr>\n",
       "      <th>183210</th>\n",
       "      <td>sunspray</td>\n",
       "      <td>차치 냄새 구려 기절 가격 필요</td>\n",
       "    </tr>\n",
       "  </tbody>\n",
       "</table>\n",
       "<p>183211 rows × 2 columns</p>\n",
       "</div>"
      ],
      "text/plain": [
       "        category                                   processed_review\n",
       "0       suncream  진심 이번 기획 장바구니 세일 시작 판매 종료 이게 무슨 일이야 기획 상품 인기 기...\n",
       "1       suncream  자극 무난 데일리 백탁 그런지 촉촉 피부 예민 신분 본인 여드름성 피부 톤업 촉촉 ...\n",
       "2       suncream  발림성 건조 무기자차 에스트라 스킨 케어 고민 찰나 귀여운 기획 세트 컬러 로션 보...\n",
       "3       suncream  에스트라 무기자차 예전 샘플 좋아서 수난 시대 과정 피부 사계절 무기자차 겨울 건조...\n",
       "4       suncream  피부 타입 민감성 수부지 타입 유기자차 트러블 절대 무기자차 자극 트러블 적도 민감...\n",
       "...          ...                                                ...\n",
       "183206  sunspray                                                   \n",
       "183207  sunspray                                 여름 기존 아넷사 온몸 스프 간편\n",
       "183208  sunspray                                              처음 기대\n",
       "183209  sunspray                                 여름 팔 종아리 발 아넷사 신제품\n",
       "183210  sunspray                                  차치 냄새 구려 기절 가격 필요\n",
       "\n",
       "[183211 rows x 2 columns]"
      ]
     },
     "execution_count": 7,
     "metadata": {},
     "output_type": "execute_result"
    }
   ],
   "source": [
    "combined_df"
   ]
  },
  {
   "cell_type": "code",
   "execution_count": 8,
   "id": "a6b1c171-fd0e-48f3-9e63-ac92a313bc19",
   "metadata": {},
   "outputs": [],
   "source": [
    "# 카테고리별로 모든 리뷰 합치기\n",
    "documents = combined_df.groupby('category')['processed_review'].apply(lambda x: ' '.join(x)).reset_index()"
   ]
  },
  {
   "cell_type": "code",
   "execution_count": 9,
   "id": "aa2d6559-19eb-426c-ab32-0e427fa0b668",
   "metadata": {},
   "outputs": [
    {
     "data": {
      "text/html": [
       "<div>\n",
       "<style scoped>\n",
       "    .dataframe tbody tr th:only-of-type {\n",
       "        vertical-align: middle;\n",
       "    }\n",
       "\n",
       "    .dataframe tbody tr th {\n",
       "        vertical-align: top;\n",
       "    }\n",
       "\n",
       "    .dataframe thead th {\n",
       "        text-align: right;\n",
       "    }\n",
       "</style>\n",
       "<table border=\"1\" class=\"dataframe\">\n",
       "  <thead>\n",
       "    <tr style=\"text-align: right;\">\n",
       "      <th></th>\n",
       "      <th>category</th>\n",
       "      <th>processed_review</th>\n",
       "    </tr>\n",
       "  </thead>\n",
       "  <tbody>\n",
       "    <tr>\n",
       "      <th>0</th>\n",
       "      <td>suncream</td>\n",
       "      <td>진심 이번 기획 장바구니 세일 시작 판매 종료 이게 무슨 일이야 기획 상품 인기 기...</td>\n",
       "    </tr>\n",
       "    <tr>\n",
       "      <th>1</th>\n",
       "      <td>suncushion</td>\n",
       "      <td>무조건 이거 처음 출시 생기 톤업 이름 식물나라 톤업 최고 최고 추천 후기 요약 톤...</td>\n",
       "    </tr>\n",
       "    <tr>\n",
       "      <th>2</th>\n",
       "      <td>sunpatch</td>\n",
       "      <td>요즘 햇빛 햇빛 잡티 잡티 케어 신경 밖 잡티 광대 부위 쿨링감 가성비 해외여행 크...</td>\n",
       "    </tr>\n",
       "    <tr>\n",
       "      <th>3</th>\n",
       "      <td>sunspray</td>\n",
       "      <td>좋아서 여름 물 몰이 예정 가격 간편 워터프루프 기분 납 니다 요즘 햇살 조금 꿀 ...</td>\n",
       "    </tr>\n",
       "    <tr>\n",
       "      <th>4</th>\n",
       "      <td>sunstick</td>\n",
       "      <td>뽀송 마무리 발림성 좋아서 정도 만족 얼굴 남자친구 선물 안끈적 재구매 의사 프로 ...</td>\n",
       "    </tr>\n",
       "  </tbody>\n",
       "</table>\n",
       "</div>"
      ],
      "text/plain": [
       "     category                                   processed_review\n",
       "0    suncream  진심 이번 기획 장바구니 세일 시작 판매 종료 이게 무슨 일이야 기획 상품 인기 기...\n",
       "1  suncushion  무조건 이거 처음 출시 생기 톤업 이름 식물나라 톤업 최고 최고 추천 후기 요약 톤...\n",
       "2    sunpatch  요즘 햇빛 햇빛 잡티 잡티 케어 신경 밖 잡티 광대 부위 쿨링감 가성비 해외여행 크...\n",
       "3    sunspray  좋아서 여름 물 몰이 예정 가격 간편 워터프루프 기분 납 니다 요즘 햇살 조금 꿀 ...\n",
       "4    sunstick  뽀송 마무리 발림성 좋아서 정도 만족 얼굴 남자친구 선물 안끈적 재구매 의사 프로 ..."
      ]
     },
     "execution_count": 9,
     "metadata": {},
     "output_type": "execute_result"
    }
   ],
   "source": [
    "documents"
   ]
  },
  {
   "cell_type": "code",
   "execution_count": 10,
   "id": "909e73e9-a074-4591-8a89-fdee4f224c6d",
   "metadata": {},
   "outputs": [],
   "source": [
    "# 뽀송 키워드를 보송으로 변환\n",
    "def custom_tokenizer(text):\n",
    "    text = text.replace('뽀송', '보송')\n",
    "    return text.split()"
   ]
  },
  {
   "cell_type": "code",
   "execution_count": 11,
   "id": "30ff43c7-de09-4b8e-9116-b73411399c0f",
   "metadata": {},
   "outputs": [],
   "source": [
    "tfidf = TfidfVectorizer(tokenizer=custom_tokenizer)"
   ]
  },
  {
   "cell_type": "code",
   "execution_count": 12,
   "id": "5e6b34a3-9e55-4f74-ada1-3909571eb8b3",
   "metadata": {},
   "outputs": [
    {
     "name": "stderr",
     "output_type": "stream",
     "text": [
      "/Users/ayounglee/anaconda3/lib/python3.11/site-packages/sklearn/feature_extraction/text.py:525: UserWarning: The parameter 'token_pattern' will not be used since 'tokenizer' is not None'\n",
      "  warnings.warn(\n"
     ]
    }
   ],
   "source": [
    "tfidf_csr_matrix = tfidf.fit_transform(documents['processed_review'])"
   ]
  },
  {
   "cell_type": "code",
   "execution_count": 13,
   "id": "8b8369e7-aa26-4f02-90b2-725467980af5",
   "metadata": {},
   "outputs": [
    {
     "data": {
      "text/plain": [
       "<5x12469 sparse matrix of type '<class 'numpy.float64'>'\n",
       "\twith 25125 stored elements in Compressed Sparse Row format>"
      ]
     },
     "execution_count": 13,
     "metadata": {},
     "output_type": "execute_result"
    }
   ],
   "source": [
    "tfidf_csr_matrix"
   ]
  },
  {
   "cell_type": "code",
   "execution_count": 67,
   "id": "0094e4ef-99e3-4f25-b866-12858fed8bdf",
   "metadata": {},
   "outputs": [],
   "source": [
    "tfidf_df = pd.DataFrame(tfidf_csr_matrix.toarray(), index=documents['category'], columns=tfidf.get_feature_names_out())"
   ]
  },
  {
   "cell_type": "code",
   "execution_count": 75,
   "id": "2d7b6977-a7dc-4420-b547-e29c5f61d0e7",
   "metadata": {},
   "outputs": [
    {
     "data": {
      "text/html": [
       "<div>\n",
       "<style scoped>\n",
       "    .dataframe tbody tr th:only-of-type {\n",
       "        vertical-align: middle;\n",
       "    }\n",
       "\n",
       "    .dataframe tbody tr th {\n",
       "        vertical-align: top;\n",
       "    }\n",
       "\n",
       "    .dataframe thead th {\n",
       "        text-align: right;\n",
       "    }\n",
       "</style>\n",
       "<table border=\"1\" class=\"dataframe\">\n",
       "  <thead>\n",
       "    <tr style=\"text-align: right;\">\n",
       "      <th></th>\n",
       "      <th>+0</th>\n",
       "      <th>-1</th>\n",
       "      <th>-2</th>\n",
       "      <th>-3</th>\n",
       "      <th>-4</th>\n",
       "      <th>-5</th>\n",
       "      <th>-d</th>\n",
       "      <th>.bb</th>\n",
       "      <th>.bi</th>\n",
       "      <th>.bn</th>\n",
       "      <th>...</th>\n",
       "      <th>히어로</th>\n",
       "      <th>히우</th>\n",
       "      <th>히친</th>\n",
       "      <th>히터</th>\n",
       "      <th>히트</th>\n",
       "      <th>히피</th>\n",
       "      <th>힐러</th>\n",
       "      <th>힐링</th>\n",
       "      <th>힐스</th>\n",
       "      <th>힘</th>\n",
       "    </tr>\n",
       "    <tr>\n",
       "      <th>category</th>\n",
       "      <th></th>\n",
       "      <th></th>\n",
       "      <th></th>\n",
       "      <th></th>\n",
       "      <th></th>\n",
       "      <th></th>\n",
       "      <th></th>\n",
       "      <th></th>\n",
       "      <th></th>\n",
       "      <th></th>\n",
       "      <th></th>\n",
       "      <th></th>\n",
       "      <th></th>\n",
       "      <th></th>\n",
       "      <th></th>\n",
       "      <th></th>\n",
       "      <th></th>\n",
       "      <th></th>\n",
       "      <th></th>\n",
       "      <th></th>\n",
       "      <th></th>\n",
       "    </tr>\n",
       "  </thead>\n",
       "  <tbody>\n",
       "    <tr>\n",
       "      <th>suncream</th>\n",
       "      <td>0.000018</td>\n",
       "      <td>0.000129</td>\n",
       "      <td>0.000506</td>\n",
       "      <td>0.000596</td>\n",
       "      <td>0.000680</td>\n",
       "      <td>0.000268</td>\n",
       "      <td>0.000018</td>\n",
       "      <td>0.000043</td>\n",
       "      <td>0.000018</td>\n",
       "      <td>0.000000</td>\n",
       "      <td>...</td>\n",
       "      <td>0.000014</td>\n",
       "      <td>0.000000</td>\n",
       "      <td>0.000018</td>\n",
       "      <td>0.000916</td>\n",
       "      <td>0.000106</td>\n",
       "      <td>0.000018</td>\n",
       "      <td>0.000739</td>\n",
       "      <td>0.000236</td>\n",
       "      <td>0.000018</td>\n",
       "      <td>0.002324</td>\n",
       "    </tr>\n",
       "    <tr>\n",
       "      <th>suncushion</th>\n",
       "      <td>0.000000</td>\n",
       "      <td>0.000085</td>\n",
       "      <td>0.000427</td>\n",
       "      <td>0.000722</td>\n",
       "      <td>0.001155</td>\n",
       "      <td>0.000341</td>\n",
       "      <td>0.000000</td>\n",
       "      <td>0.000000</td>\n",
       "      <td>0.000000</td>\n",
       "      <td>0.000000</td>\n",
       "      <td>...</td>\n",
       "      <td>0.000000</td>\n",
       "      <td>0.000000</td>\n",
       "      <td>0.000000</td>\n",
       "      <td>0.000000</td>\n",
       "      <td>0.000000</td>\n",
       "      <td>0.000000</td>\n",
       "      <td>0.000000</td>\n",
       "      <td>0.000811</td>\n",
       "      <td>0.000000</td>\n",
       "      <td>0.000000</td>\n",
       "    </tr>\n",
       "    <tr>\n",
       "      <th>sunpatch</th>\n",
       "      <td>0.000000</td>\n",
       "      <td>0.000000</td>\n",
       "      <td>0.000000</td>\n",
       "      <td>0.000560</td>\n",
       "      <td>0.001119</td>\n",
       "      <td>0.000662</td>\n",
       "      <td>0.000000</td>\n",
       "      <td>0.000000</td>\n",
       "      <td>0.000000</td>\n",
       "      <td>0.000000</td>\n",
       "      <td>...</td>\n",
       "      <td>0.000000</td>\n",
       "      <td>0.001174</td>\n",
       "      <td>0.000000</td>\n",
       "      <td>0.000000</td>\n",
       "      <td>0.000000</td>\n",
       "      <td>0.000000</td>\n",
       "      <td>0.000000</td>\n",
       "      <td>0.000000</td>\n",
       "      <td>0.000000</td>\n",
       "      <td>0.001573</td>\n",
       "    </tr>\n",
       "    <tr>\n",
       "      <th>sunspray</th>\n",
       "      <td>0.000000</td>\n",
       "      <td>0.001312</td>\n",
       "      <td>0.001312</td>\n",
       "      <td>0.002219</td>\n",
       "      <td>0.001109</td>\n",
       "      <td>0.000000</td>\n",
       "      <td>0.000000</td>\n",
       "      <td>0.000000</td>\n",
       "      <td>0.000000</td>\n",
       "      <td>0.000000</td>\n",
       "      <td>...</td>\n",
       "      <td>0.000000</td>\n",
       "      <td>0.000000</td>\n",
       "      <td>0.000000</td>\n",
       "      <td>0.000000</td>\n",
       "      <td>0.000000</td>\n",
       "      <td>0.000000</td>\n",
       "      <td>0.000000</td>\n",
       "      <td>0.000000</td>\n",
       "      <td>0.000000</td>\n",
       "      <td>0.003119</td>\n",
       "    </tr>\n",
       "    <tr>\n",
       "      <th>sunstick</th>\n",
       "      <td>0.000000</td>\n",
       "      <td>0.000120</td>\n",
       "      <td>0.000661</td>\n",
       "      <td>0.002391</td>\n",
       "      <td>0.001373</td>\n",
       "      <td>0.000241</td>\n",
       "      <td>0.000000</td>\n",
       "      <td>0.000086</td>\n",
       "      <td>0.000000</td>\n",
       "      <td>0.000213</td>\n",
       "      <td>...</td>\n",
       "      <td>0.000172</td>\n",
       "      <td>0.000000</td>\n",
       "      <td>0.000000</td>\n",
       "      <td>0.000000</td>\n",
       "      <td>0.000000</td>\n",
       "      <td>0.000000</td>\n",
       "      <td>0.000344</td>\n",
       "      <td>0.000357</td>\n",
       "      <td>0.000000</td>\n",
       "      <td>0.000000</td>\n",
       "    </tr>\n",
       "  </tbody>\n",
       "</table>\n",
       "<p>5 rows × 12469 columns</p>\n",
       "</div>"
      ],
      "text/plain": [
       "                  +0        -1        -2        -3        -4        -5  \\\n",
       "category                                                                 \n",
       "suncream    0.000018  0.000129  0.000506  0.000596  0.000680  0.000268   \n",
       "suncushion  0.000000  0.000085  0.000427  0.000722  0.001155  0.000341   \n",
       "sunpatch    0.000000  0.000000  0.000000  0.000560  0.001119  0.000662   \n",
       "sunspray    0.000000  0.001312  0.001312  0.002219  0.001109  0.000000   \n",
       "sunstick    0.000000  0.000120  0.000661  0.002391  0.001373  0.000241   \n",
       "\n",
       "                  -d       .bb       .bi       .bn  ...       히어로        히우  \\\n",
       "category                                            ...                       \n",
       "suncream    0.000018  0.000043  0.000018  0.000000  ...  0.000014  0.000000   \n",
       "suncushion  0.000000  0.000000  0.000000  0.000000  ...  0.000000  0.000000   \n",
       "sunpatch    0.000000  0.000000  0.000000  0.000000  ...  0.000000  0.001174   \n",
       "sunspray    0.000000  0.000000  0.000000  0.000000  ...  0.000000  0.000000   \n",
       "sunstick    0.000000  0.000086  0.000000  0.000213  ...  0.000172  0.000000   \n",
       "\n",
       "                  히친        히터        히트        히피        힐러        힐링  \\\n",
       "category                                                                 \n",
       "suncream    0.000018  0.000916  0.000106  0.000018  0.000739  0.000236   \n",
       "suncushion  0.000000  0.000000  0.000000  0.000000  0.000000  0.000811   \n",
       "sunpatch    0.000000  0.000000  0.000000  0.000000  0.000000  0.000000   \n",
       "sunspray    0.000000  0.000000  0.000000  0.000000  0.000000  0.000000   \n",
       "sunstick    0.000000  0.000000  0.000000  0.000000  0.000344  0.000357   \n",
       "\n",
       "                  힐스         힘  \n",
       "category                        \n",
       "suncream    0.000018  0.002324  \n",
       "suncushion  0.000000  0.000000  \n",
       "sunpatch    0.000000  0.001573  \n",
       "sunspray    0.000000  0.003119  \n",
       "sunstick    0.000000  0.000000  \n",
       "\n",
       "[5 rows x 12469 columns]"
      ]
     },
     "execution_count": 75,
     "metadata": {},
     "output_type": "execute_result"
    }
   ],
   "source": [
    "tfidf_df"
   ]
  },
  {
   "cell_type": "code",
   "execution_count": 68,
   "id": "19df04a5-979c-43ea-87af-8ee667c67018",
   "metadata": {},
   "outputs": [],
   "source": [
    "suncream_top_keywords = tfidf_df.loc['suncream'].nlargest(10)\n",
    "sunstic_top_keywords = tfidf_df.loc['sunstick'].nlargest(10)\n",
    "suncushion_top_keywords = tfidf_df.loc['suncushion'].nlargest(10)\n",
    "sunpatch_top_keywords = tfidf_df.loc['sunpatch'].nlargest(10)\n",
    "sunspray_top_keywords = tfidf_df.loc['sunspray'].nlargest(10)"
   ]
  },
  {
   "cell_type": "code",
   "execution_count": 81,
   "id": "65be176e-f588-4300-95cd-761a84466410",
   "metadata": {},
   "outputs": [
    {
     "data": {
      "text/plain": [
       "category\n",
       "suncream      13.098295\n",
       "suncushion    12.206963\n",
       "sunpatch      12.702205\n",
       "sunspray      11.427585\n",
       "sunstick      14.315623\n",
       "dtype: float64"
      ]
     },
     "execution_count": 81,
     "metadata": {},
     "output_type": "execute_result"
    }
   ],
   "source": [
    "tfidf_df.sum(axis=1)"
   ]
  },
  {
   "cell_type": "markdown",
   "id": "11d970a9-8dd3-48ff-8690-c178f2755558",
   "metadata": {},
   "source": [
    "# suncream_top_keywords tf-idf"
   ]
  },
  {
   "cell_type": "code",
   "execution_count": 56,
   "id": "dc0c9e0e-345b-4894-aeb5-5aca07cbc635",
   "metadata": {},
   "outputs": [
    {
     "name": "stdout",
     "output_type": "stream",
     "text": [
      "category\n",
      "suncream      0.311507\n",
      "suncushion    0.185298\n",
      "sunpatch      0.060429\n",
      "sunspray      0.028847\n",
      "sunstick      0.132496\n",
      "Name: 촉촉, dtype: float64\n"
     ]
    },
    {
     "data": {
      "text/plain": [
       "(array([0, 1, 2, 3, 4]),\n",
       " [Text(0, 0, 'suncream'),\n",
       "  Text(1, 0, 'suncushion'),\n",
       "  Text(2, 0, 'sunpatch'),\n",
       "  Text(3, 0, 'sunspray'),\n",
       "  Text(4, 0, 'sunstick')])"
      ]
     },
     "execution_count": 56,
     "metadata": {},
     "output_type": "execute_result"
    },
    {
     "data": {
      "image/png": "[encoded data removed]",
      "text/plain": [
       "<Figure size 640x480 with 1 Axes>"
      ]
     },
     "metadata": {},
     "output_type": "display_data"
    }
   ],
   "source": [
    "keyword = '촉촉'  \n",
    "tfidf_values_for_keyword = tfidf_df[keyword]\n",
    "print(tfidf_values_for_keyword)\n",
    "\n",
    "bars = tfidf_values_for_keyword.plot(kind=\"bar\", color = \"cyan\")\n",
    "for bar in bars.patches:\n",
    "    yval = bar.get_height()\n",
    "    plt.text(bar.get_x() + bar.get_width()/2, yval, round(yval,4), ha = \"center\", va =\"bottom\") \n",
    "\n",
    "plt.title(f\"category별 keyword'{keyword}'의 tf-idf\")\n",
    "plt.xticks(rotation=0)"
   ]
  },
  {
   "cell_type": "markdown",
   "id": "634d001d-f499-4d64-a51a-adb2a8462cec",
   "metadata": {},
   "source": [
    "# 촉촉이란 키워드가 다른 카테고리에 비해 중요해보였다."
   ]
  },
  {
   "cell_type": "code",
   "execution_count": 59,
   "id": "cf5db38d-11a5-4869-a734-d779265b0824",
   "metadata": {},
   "outputs": [
    {
     "name": "stdout",
     "output_type": "stream",
     "text": [
      "category\n",
      "suncream      0.350065\n",
      "suncushion    0.426646\n",
      "sunpatch      0.001323\n",
      "sunspray      0.000000\n",
      "sunstick      0.030308\n",
      "Name: 톤업, dtype: float64\n"
     ]
    },
    {
     "data": {
      "text/plain": [
       "(array([0, 1, 2, 3, 4]),\n",
       " [Text(0, 0, 'suncream'),\n",
       "  Text(1, 0, 'suncushion'),\n",
       "  Text(2, 0, 'sunpatch'),\n",
       "  Text(3, 0, 'sunspray'),\n",
       "  Text(4, 0, 'sunstick')])"
      ]
     },
     "execution_count": 59,
     "metadata": {},
     "output_type": "execute_result"
    },
    {
     "data": {
      "image/png": "[encoded data removed]",
      "text/plain": [
       "<Figure size 640x480 with 1 Axes>"
      ]
     },
     "metadata": {},
     "output_type": "display_data"
    }
   ],
   "source": [
    "keyword = '톤업'  \n",
    "tfidf_values_for_keyword = tfidf_df[keyword]\n",
    "print(tfidf_values_for_keyword)\n",
    "\n",
    "bars = tfidf_values_for_keyword.plot(kind=\"bar\",color = \"magenta\")\n",
    "for bar in bars.patches:\n",
    "    yval = bar.get_height()\n",
    "    plt.text(bar.get_x() + bar.get_width()/2, yval, round(yval,4), ha = \"center\", va =\"bottom\") \n",
    "\n",
    "plt.title(f\"category별 keyword'{keyword}'의 tf-idf\")\n",
    "plt.xticks(rotation=0)"
   ]
  },
  {
   "cell_type": "code",
   "execution_count": 58,
   "id": "5f00dda0-d2fb-4a97-a29a-23e0c0f3ddf1",
   "metadata": {},
   "outputs": [
    {
     "name": "stdout",
     "output_type": "stream",
     "text": [
      "category\n",
      "suncream      0.244538\n",
      "suncushion    0.063714\n",
      "sunpatch      0.000560\n",
      "sunspray      0.008876\n",
      "sunstick      0.199379\n",
      "Name: 발림성, dtype: float64\n"
     ]
    },
    {
     "data": {
      "text/plain": [
       "(array([0, 1, 2, 3, 4]),\n",
       " [Text(0, 0, 'suncream'),\n",
       "  Text(1, 0, 'suncushion'),\n",
       "  Text(2, 0, 'sunpatch'),\n",
       "  Text(3, 0, 'sunspray'),\n",
       "  Text(4, 0, 'sunstick')])"
      ]
     },
     "execution_count": 58,
     "metadata": {},
     "output_type": "execute_result"
    },
    {
     "data": {
      "image/png": "[encoded data removed]",
      "text/plain": [
       "<Figure size 640x480 with 1 Axes>"
      ]
     },
     "metadata": {},
     "output_type": "display_data"
    }
   ],
   "source": [
    "keyword = '발림성'  \n",
    "tfidf_values_for_keyword = tfidf_df[keyword]\n",
    "print(tfidf_values_for_keyword)\n",
    "\n",
    "bars = tfidf_values_for_keyword.plot(kind=\"bar\", color = \"yellow\")\n",
    "for bar in bars.patches:\n",
    "    yval = bar.get_height()\n",
    "    plt.text(bar.get_x() + bar.get_width()/2, yval, round(yval,4), ha = \"center\", va =\"bottom\") \n",
    "\n",
    "plt.title(f\"category별 keyword'{keyword}'의 tf-idf\")\n",
    "plt.xticks(rotation=0)"
   ]
  },
  {
   "cell_type": "code",
   "execution_count": 61,
   "id": "0e9f24a9-ec4d-4969-ae8c-9035f8c7d648",
   "metadata": {},
   "outputs": [
    {
     "name": "stdout",
     "output_type": "stream",
     "text": [
      "category\n",
      "suncream      0.061732\n",
      "suncushion    0.059601\n",
      "sunpatch      0.002238\n",
      "sunspray      0.049927\n",
      "sunstick      0.428207\n",
      "Name: 보송, dtype: float64\n"
     ]
    },
    {
     "data": {
      "text/plain": [
       "(array([0, 1, 2, 3, 4]),\n",
       " [Text(0, 0, 'suncream'),\n",
       "  Text(1, 0, 'suncushion'),\n",
       "  Text(2, 0, 'sunpatch'),\n",
       "  Text(3, 0, 'sunspray'),\n",
       "  Text(4, 0, 'sunstick')])"
      ]
     },
     "execution_count": 61,
     "metadata": {},
     "output_type": "execute_result"
    },
    {
     "data": {
      "image/png": "[encoded data removed]",
      "text/plain": [
       "<Figure size 640x480 with 1 Axes>"
      ]
     },
     "metadata": {},
     "output_type": "display_data"
    }
   ],
   "source": [
    "keyword = '보송' \n",
    "tfidf_values_for_keyword = tfidf_df[keyword]\n",
    "print(tfidf_values_for_keyword)\n",
    "\n",
    "bars = tfidf_values_for_keyword.plot(kind=\"bar\")\n",
    "for bar in bars.patches:\n",
    "    yval = bar.get_height()\n",
    "    plt.text(bar.get_x() + bar.get_width()/2, yval, round(yval,4), ha = \"center\", va =\"bottom\") \n",
    "plt.title(f\"category별 keyword'{keyword}'의 tf-idf\")\n",
    "plt.xticks(rotation=0)"
   ]
  }
 ],
 "metadata": {
  "kernelspec": {
   "display_name": "Python 3 (ipykernel)",
   "language": "python",
   "name": "python3"
  },
  "language_info": {
   "codemirror_mode": {
    "name": "ipython",
    "version": 3
   },
   "file_extension": ".py",
   "mimetype": "text/x-python",
   "name": "python",
   "nbconvert_exporter": "python",
   "pygments_lexer": "ipython3",
   "version": "3.12.3"
  }
 },
 "nbformat": 4,
 "nbformat_minor": 5
}
